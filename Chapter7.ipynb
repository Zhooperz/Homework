{
 "cells": [
  {
   "cell_type": "code",
   "execution_count": 50,
   "id": "cde8952a",
   "metadata": {},
   "outputs": [],
   "source": [
    "import unittest"
   ]
  },
  {
   "cell_type": "code",
   "execution_count": 49,
   "id": "a4011f0b",
   "metadata": {},
   "outputs": [],
   "source": [
    "class SimpleMath:\n",
    "    def divide(self,numerator,denominator):\n",
    "        if(denominator==0):\n",
    "            raise ZeroDivisionError(\"Can't Divide by Zero!!!!\")\n",
    "        Result =numerator/denominator\n",
    "        print(Result)\n",
    "        return Result\n",
    "    "
   ]
  },
  {
   "cell_type": "code",
   "execution_count": 51,
   "id": "63313d3f",
   "metadata": {},
   "outputs": [
    {
     "name": "stderr",
     "output_type": "stream",
     "text": [
      "...."
     ]
    },
    {
     "name": "stdout",
     "output_type": "stream",
     "text": [
      "0.25\n",
      "0.14285714285714285\n",
      "0.0\n"
     ]
    },
    {
     "name": "stderr",
     "output_type": "stream",
     "text": [
      "\n",
      "----------------------------------------------------------------------\n",
      "Ran 4 tests in 0.004s\n",
      "\n",
      "OK\n"
     ]
    }
   ],
   "source": [
    "class SimpleMathTest(unittest.TestCase):\n",
    "    def testThatZeroNumeratorReturnsZero(self):\n",
    "        Test1 = SimpleMath()\n",
    "        self.assertEqual(0,Test1.divide(0,7))\n",
    "    def testThatSmallerNumeratorReturnsDecimalValue(self):\n",
    "        Test2 = SimpleMath()\n",
    "        self.assertEqual(0.25,Test2.divide(1,4))\n",
    "    def testThatSmallerNumeratorReturnsRepeatingDecimalValue(self):\n",
    "        Test3 = SimpleMath()\n",
    "        self.assertAlmostEqual(0.143,Test3.divide(1,7),3)\n",
    "    def testThatZeroDenominatorThrowsException(self):\n",
    "        Test4 = SimpleMath()\n",
    "        with self.assertRaises(ZeroDivisionError):\n",
    "            Test4.divide(6,0)\n",
    "if (__name__ == '__main__'):\n",
    "        unittest.main(argv=['first-arg-is-ignored'], exit=False)\n",
    "        \n"
   ]
  },
  {
   "cell_type": "code",
   "execution_count": null,
   "id": "9d30662f",
   "metadata": {},
   "outputs": [],
   "source": []
  }
 ],
 "metadata": {
  "kernelspec": {
   "display_name": "Python 3",
   "language": "python",
   "name": "python3"
  },
  "language_info": {
   "codemirror_mode": {
    "name": "ipython",
    "version": 3
   },
   "file_extension": ".py",
   "mimetype": "text/x-python",
   "name": "python",
   "nbconvert_exporter": "python",
   "pygments_lexer": "ipython3",
   "version": "3.8.8"
  }
 },
 "nbformat": 4,
 "nbformat_minor": 5
}
